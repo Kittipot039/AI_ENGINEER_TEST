{
 "cells": [
  {
   "cell_type": "code",
   "execution_count": null,
   "id": "5faa69f9-d69f-4dcc-b9ba-4f2fe2a9db43",
   "metadata": {},
   "outputs": [],
   "source": [
    "# import librariesสำหรับอ่านเนื้อหาจากไฟล์pdf\n",
    "import fitz\n",
    "from langchain.docstore.document import Document\n",
    "# ระบุpathที่อยู่ไฟล์เอกสาร\n",
    "pdf1 = r\"C:\\Users\\Kitti\\OneDrive\\เดสก์ท็อป\\งาน\\AI Engineer Test\\AI Engineer Test\\ai_test_user_feedback.pdf\"\n",
    "pdf2 = r\"C:\\Users\\Kitti\\OneDrive\\เดสก์ท็อป\\งาน\\AI Engineer Test\\AI Engineer Test\\ai_test_bug_report.pdf\"\n",
    "# สร้างตัวแปรtextsไว้เก็บเนื้อหาจากเอกสาร\n",
    "texts = []\n",
    "\n",
    "for file_path in [pdf1, pdf2]:\n",
    "    doc = fitz.open(file_path)\n",
    "    for i, page in enumerate(doc): #วนลูปผ่านเอกสาร\n",
    "        content = page.get_text()\n",
    "        if content.strip():\n",
    "            texts.append(Document(\n",
    "                page_content=content,\n",
    "                metadata={\"source\": file_path, \"page\": i + 1}\n",
    "            ))\n",
    "\n",
    "for i, doc in enumerate(texts[:3]):  # ทดลองดู3เอกสารแรก\n",
    "    print(f\"🔹 Document {i+1}\")\n",
    "    print(f\"Source: {doc.metadata['source']} - Page: {doc.metadata['page']}\") #ดูmetadataของเอกสาร\n",
    "    print(doc.page_content[:300])  # แสดงเนื้อหาต้น 300 ตัวอักษร\n",
    "    print(\"------\")"
   ]
  },
  {
   "cell_type": "code",
   "execution_count": null,
   "id": "b82eca07-469e-4acc-b346-88e805a62c75",
   "metadata": {},
   "outputs": [],
   "source": [
    "import os\n",
    "from dotenv import load_dotenv\n",
    "\n",
    "# load environment\n",
    "load_dotenv(dotenv_path=r\"C:\\Users\\Kitti\\OneDrive\\เดสก์ท็อป\\งาน\\Hugging Face\\Tokens\\HUGGINGFACE_API_KEY.env\")\n",
    "\n",
    "# ตั้งค่า API Key ของ Hugging Face\n",
    "HUGGINGFACE_API_KEY = os.getenv(\"HUGGINGFACE_API_KEY\") # ใส่คีย์ API ของคุณที่นี่\n",
    "\n",
    "if \"HUGGINGFACE_API_KEY\" in os.environ:\n",
    "    print(\"Environment variable loaded successfully!\")\n",
    "    print(\"HUGGINGFACE_API_KEY:\", os.environ[\"HUGGINGFACE_API_KEY\"])  # ตรวจสอบค่า (อย่าแชร์ค่า API Key จริง)\n",
    "else:\n",
    "    print(\"Failed to load environment variable.\")\n"
   ]
  },
  {
   "cell_type": "code",
   "execution_count": null,
   "id": "1e65bb2f-5a07-4a78-877e-447b450bbbda",
   "metadata": {},
   "outputs": [],
   "source": [
    "#import librariesที่จำเป็นสำหรับทำembeddings\n",
    "from langchain_huggingface import HuggingFaceEmbeddings\n",
    "from langchain.vectorstores import FAISS\n",
    "\n",
    "# โหลดโมเดลสำหรับทำembeddingผ่านHuggingFaceEmbeddings\n",
    "model_name = \"sentence-transformers/all-mpnet-base-v2\"\n",
    "model_kwargs = {'device': 'cpu'}\n",
    "encode_kwargs = {'normalize_embeddings': False}\n",
    "embeddings = HuggingFaceEmbeddings(\n",
    "    model_name=model_name,\n",
    "    model_kwargs=model_kwargs,\n",
    "    encode_kwargs=encode_kwargs\n",
    ")\n",
    "\n",
    "# เก็บข้อมูลที่ถูกembeddingsแล้วไว้ในตัวแปรvector store\n",
    "vectorstore = FAISS.from_documents(texts, embeddings)\n",
    "\n",
    "# ใช้retrieverในการรับข้อมูลจากvector store\n",
    "retriever = vectorstore.as_retriever()"
   ]
  },
  {
   "cell_type": "code",
   "execution_count": null,
   "id": "84ffac27-727c-4c1f-bb15-8360ba749163",
   "metadata": {},
   "outputs": [],
   "source": [
    "#import model LLM ที่ต้องการใช้งานเข้ามา\n",
    "import ollama\n",
    "#ทดลองใช้งานเบื้องต้น\n",
    "prompt = \"เมืองหลวงของประเทศไทยคือ\"\n",
    "\n",
    "response = ollama.chat(model=\"llama3.2\", messages=[\n",
    "    {\"role\": \"system\", \"content\": \"You are male. Answer with นะครับ\"},\n",
    "    {\"role\": \"user\", \"content\": prompt}\n",
    "])\n",
    "\n",
    "response[\"message\"][\"content\"]"
   ]
  },
  {
   "cell_type": "code",
   "execution_count": null,
   "id": "42aa56d1-63e5-4822-9178-3fb650ce7501",
   "metadata": {},
   "outputs": [],
   "source": [
    "def generate_response(query_text):\n",
    "     # ใช้retrieverดึงเอกสารที่เกี่ยวข้องกับ query_text\n",
    "     docs = retriever.invoke(query_text)\n",
    "     # สร้างcontextจากเนื้อหาของเอกสาร\n",
    "     context = \"\\n\".join([doc.page_content for doc in docs])\n",
    "     # สร้างpromptสำหรับโมเดล\n",
    "     prompt = f\"\"\"You are an internal AI assistant that helps the product and engineering team extract \n",
    "     insights from internal documents and team reports. use information from context to answer.\n",
    "     if you can't find information that match to user's question, just say you don't find information.:\\n{context}\\nQuestion: {query_text}\"\"\"\n",
    "     # ส่ง prompt เข้าโมเดล LLaMA ผ่าน Ollama\n",
    "     response = ollama.chat(model=\"llama3.2\", messages=[\n",
    "        {\"role\": \"system\", \"content\": \"\"\"You are an assistant that extracts structured insights from documents.\n",
    "        You must always reply with a JSON object like this:\n",
    "     {\n",
    "      \"Feedback #n\": \"...\",\n",
    "     {\"Bug #n\": \n",
    "       Title: \"...\"},\n",
    "     }\n",
    "     \"\"\"},\n",
    "        {\"role\": \"user\", \"content\": prompt}\n",
    "     ])\n",
    "\n",
    "     return response[\"message\"][\"content\"]\n",
    "# ทดลองเรียกใช้งาน     \n",
    "print(generate_response(\"What are the issues reported on email notification?\"))"
   ]
  }
 ],
 "metadata": {
  "kernelspec": {
   "display_name": "Python [conda env:base] *",
   "language": "python",
   "name": "conda-base-py"
  },
  "language_info": {
   "codemirror_mode": {
    "name": "ipython",
    "version": 3
   },
   "file_extension": ".py",
   "mimetype": "text/x-python",
   "name": "python",
   "nbconvert_exporter": "python",
   "pygments_lexer": "ipython3",
   "version": "3.12.7"
  }
 },
 "nbformat": 4,
 "nbformat_minor": 5
}
